{
  "cells": [
    {
      "cell_type": "markdown",
      "metadata": {
        "colab_type": "text",
        "id": "view-in-github"
      },
      "source": [
        "<a href=\"https://colab.research.google.com/github/jdmartinev/MachineLearning/blob/main/Talleres/2b_Deteccion_de_anomalias_IF.ipynb\" target=\"_parent\"><img src=\"https://colab.research.google.com/assets/colab-badge.svg\" alt=\"Open In Colab\"/></a>"
      ]
    },
    {
      "cell_type": "markdown",
      "metadata": {
        "id": "koSY39Xykv21"
      },
      "source": [
        "## Taller 2b: Detección de anomalías con Isolation Forest\n",
        "\n"
      ]
    },
    {
      "cell_type": "code",
      "execution_count": 11,
      "metadata": {
        "id": "VNfBKeHfmEts"
      },
      "outputs": [],
      "source": [
        "#Importamos las librerías necesarias\n",
        "import pandas as pd\n",
        "import numpy as np\n",
        "import matplotlib.pyplot as plt\n",
        "# import seaborn as sns\n",
        "\n",
        "from sklearn.ensemble import IsolationForest\n",
        "from sklearn.model_selection import train_test_split\n",
        "from sklearn.ensemble import RandomForestClassifier, GradientBoostingClassifier\n",
        "from sklearn.model_selection import train_test_split, GridSearchCV\n",
        "from sklearn.metrics import f1_score, ConfusionMatrixDisplay, confusion_matrix\n",
        "from sklearn.pipeline import Pipeline\n",
        "\n",
        "random_state = 1234"
      ]
    },
    {
      "cell_type": "code",
      "execution_count": 12,
      "metadata": {
        "colab": {
          "base_uri": "https://localhost:8080/"
        },
        "id": "DxARuOrAkUNr",
        "outputId": "34b74571-f098-4bef-9b5d-7db411e49015"
      },
      "outputs": [],
      "source": [
        "### FUNCIONA EN LINUX ###\n",
        "\n",
        "# !wget --no-check-certificate 'https://docs.google.com/uc?export=download&id=1jQ0c0R9lPUGmqHjwbxlwqvYBmor6Bf-e' -O creditcard.pkl\n",
        "\n",
        "### FUNCIONA EN WINDOWS ###\n",
        "import requests\n",
        "\n",
        "url = 'https://docs.google.com/uc?export=download&id=1jQ0c0R9lPUGmqHjwbxlwqvYBmor6Bf-e'\n",
        "output_file = 'creditcard.pkl'\n",
        "\n",
        "response = requests.get(url)\n",
        "with open(output_file, 'wb') as f:\n",
        "    f.write(response.content)"
      ]
    },
    {
      "cell_type": "code",
      "execution_count": 13,
      "metadata": {
        "colab": {
          "base_uri": "https://localhost:8080/",
          "height": 256
        },
        "id": "u51bdxfaqh7Y",
        "outputId": "1da25481-0d6c-45dd-98c2-49279e78b541"
      },
      "outputs": [
        {
          "data": {
            "text/html": [
              "<div>\n",
              "<style scoped>\n",
              "    .dataframe tbody tr th:only-of-type {\n",
              "        vertical-align: middle;\n",
              "    }\n",
              "\n",
              "    .dataframe tbody tr th {\n",
              "        vertical-align: top;\n",
              "    }\n",
              "\n",
              "    .dataframe thead th {\n",
              "        text-align: right;\n",
              "    }\n",
              "</style>\n",
              "<table border=\"1\" class=\"dataframe\">\n",
              "  <thead>\n",
              "    <tr style=\"text-align: right;\">\n",
              "      <th></th>\n",
              "      <th>Time</th>\n",
              "      <th>V1</th>\n",
              "      <th>V2</th>\n",
              "      <th>V3</th>\n",
              "      <th>V4</th>\n",
              "      <th>V5</th>\n",
              "      <th>V6</th>\n",
              "      <th>V7</th>\n",
              "      <th>V8</th>\n",
              "      <th>V9</th>\n",
              "      <th>...</th>\n",
              "      <th>V21</th>\n",
              "      <th>V22</th>\n",
              "      <th>V23</th>\n",
              "      <th>V24</th>\n",
              "      <th>V25</th>\n",
              "      <th>V26</th>\n",
              "      <th>V27</th>\n",
              "      <th>V28</th>\n",
              "      <th>Amount</th>\n",
              "      <th>Class</th>\n",
              "    </tr>\n",
              "  </thead>\n",
              "  <tbody>\n",
              "    <tr>\n",
              "      <th>0</th>\n",
              "      <td>0.0</td>\n",
              "      <td>-1.359807</td>\n",
              "      <td>-0.072781</td>\n",
              "      <td>2.536347</td>\n",
              "      <td>1.378155</td>\n",
              "      <td>-0.338321</td>\n",
              "      <td>0.462388</td>\n",
              "      <td>0.239599</td>\n",
              "      <td>0.098698</td>\n",
              "      <td>0.363787</td>\n",
              "      <td>...</td>\n",
              "      <td>-0.018307</td>\n",
              "      <td>0.277838</td>\n",
              "      <td>-0.110474</td>\n",
              "      <td>0.066928</td>\n",
              "      <td>0.128539</td>\n",
              "      <td>-0.189115</td>\n",
              "      <td>0.133558</td>\n",
              "      <td>-0.021053</td>\n",
              "      <td>149.62</td>\n",
              "      <td>0</td>\n",
              "    </tr>\n",
              "    <tr>\n",
              "      <th>1</th>\n",
              "      <td>0.0</td>\n",
              "      <td>1.191857</td>\n",
              "      <td>0.266151</td>\n",
              "      <td>0.166480</td>\n",
              "      <td>0.448154</td>\n",
              "      <td>0.060018</td>\n",
              "      <td>-0.082361</td>\n",
              "      <td>-0.078803</td>\n",
              "      <td>0.085102</td>\n",
              "      <td>-0.255425</td>\n",
              "      <td>...</td>\n",
              "      <td>-0.225775</td>\n",
              "      <td>-0.638672</td>\n",
              "      <td>0.101288</td>\n",
              "      <td>-0.339846</td>\n",
              "      <td>0.167170</td>\n",
              "      <td>0.125895</td>\n",
              "      <td>-0.008983</td>\n",
              "      <td>0.014724</td>\n",
              "      <td>2.69</td>\n",
              "      <td>0</td>\n",
              "    </tr>\n",
              "    <tr>\n",
              "      <th>2</th>\n",
              "      <td>1.0</td>\n",
              "      <td>-1.358354</td>\n",
              "      <td>-1.340163</td>\n",
              "      <td>1.773209</td>\n",
              "      <td>0.379780</td>\n",
              "      <td>-0.503198</td>\n",
              "      <td>1.800499</td>\n",
              "      <td>0.791461</td>\n",
              "      <td>0.247676</td>\n",
              "      <td>-1.514654</td>\n",
              "      <td>...</td>\n",
              "      <td>0.247998</td>\n",
              "      <td>0.771679</td>\n",
              "      <td>0.909412</td>\n",
              "      <td>-0.689281</td>\n",
              "      <td>-0.327642</td>\n",
              "      <td>-0.139097</td>\n",
              "      <td>-0.055353</td>\n",
              "      <td>-0.059752</td>\n",
              "      <td>378.66</td>\n",
              "      <td>0</td>\n",
              "    </tr>\n",
              "    <tr>\n",
              "      <th>3</th>\n",
              "      <td>1.0</td>\n",
              "      <td>-0.966272</td>\n",
              "      <td>-0.185226</td>\n",
              "      <td>1.792993</td>\n",
              "      <td>-0.863291</td>\n",
              "      <td>-0.010309</td>\n",
              "      <td>1.247203</td>\n",
              "      <td>0.237609</td>\n",
              "      <td>0.377436</td>\n",
              "      <td>-1.387024</td>\n",
              "      <td>...</td>\n",
              "      <td>-0.108300</td>\n",
              "      <td>0.005274</td>\n",
              "      <td>-0.190321</td>\n",
              "      <td>-1.175575</td>\n",
              "      <td>0.647376</td>\n",
              "      <td>-0.221929</td>\n",
              "      <td>0.062723</td>\n",
              "      <td>0.061458</td>\n",
              "      <td>123.50</td>\n",
              "      <td>0</td>\n",
              "    </tr>\n",
              "    <tr>\n",
              "      <th>4</th>\n",
              "      <td>2.0</td>\n",
              "      <td>-1.158233</td>\n",
              "      <td>0.877737</td>\n",
              "      <td>1.548718</td>\n",
              "      <td>0.403034</td>\n",
              "      <td>-0.407193</td>\n",
              "      <td>0.095921</td>\n",
              "      <td>0.592941</td>\n",
              "      <td>-0.270533</td>\n",
              "      <td>0.817739</td>\n",
              "      <td>...</td>\n",
              "      <td>-0.009431</td>\n",
              "      <td>0.798278</td>\n",
              "      <td>-0.137458</td>\n",
              "      <td>0.141267</td>\n",
              "      <td>-0.206010</td>\n",
              "      <td>0.502292</td>\n",
              "      <td>0.219422</td>\n",
              "      <td>0.215153</td>\n",
              "      <td>69.99</td>\n",
              "      <td>0</td>\n",
              "    </tr>\n",
              "  </tbody>\n",
              "</table>\n",
              "<p>5 rows × 31 columns</p>\n",
              "</div>"
            ],
            "text/plain": [
              "   Time        V1        V2        V3        V4        V5        V6        V7  \\\n",
              "0   0.0 -1.359807 -0.072781  2.536347  1.378155 -0.338321  0.462388  0.239599   \n",
              "1   0.0  1.191857  0.266151  0.166480  0.448154  0.060018 -0.082361 -0.078803   \n",
              "2   1.0 -1.358354 -1.340163  1.773209  0.379780 -0.503198  1.800499  0.791461   \n",
              "3   1.0 -0.966272 -0.185226  1.792993 -0.863291 -0.010309  1.247203  0.237609   \n",
              "4   2.0 -1.158233  0.877737  1.548718  0.403034 -0.407193  0.095921  0.592941   \n",
              "\n",
              "         V8        V9  ...       V21       V22       V23       V24       V25  \\\n",
              "0  0.098698  0.363787  ... -0.018307  0.277838 -0.110474  0.066928  0.128539   \n",
              "1  0.085102 -0.255425  ... -0.225775 -0.638672  0.101288 -0.339846  0.167170   \n",
              "2  0.247676 -1.514654  ...  0.247998  0.771679  0.909412 -0.689281 -0.327642   \n",
              "3  0.377436 -1.387024  ... -0.108300  0.005274 -0.190321 -1.175575  0.647376   \n",
              "4 -0.270533  0.817739  ... -0.009431  0.798278 -0.137458  0.141267 -0.206010   \n",
              "\n",
              "        V26       V27       V28  Amount  Class  \n",
              "0 -0.189115  0.133558 -0.021053  149.62      0  \n",
              "1  0.125895 -0.008983  0.014724    2.69      0  \n",
              "2 -0.139097 -0.055353 -0.059752  378.66      0  \n",
              "3 -0.221929  0.062723  0.061458  123.50      0  \n",
              "4  0.502292  0.219422  0.215153   69.99      0  \n",
              "\n",
              "[5 rows x 31 columns]"
            ]
          },
          "execution_count": 13,
          "metadata": {},
          "output_type": "execute_result"
        }
      ],
      "source": [
        "#Cargamos los datos\n",
        "df = pd.read_pickle('creditcard.pkl')\n",
        "df.head()"
      ]
    },
    {
      "cell_type": "code",
      "execution_count": 14,
      "metadata": {
        "colab": {
          "base_uri": "https://localhost:8080/",
          "height": 496
        },
        "id": "YBRYBQ7ZmBb_",
        "outputId": "03497615-494a-4a85-d588-b23c8b54f8c2"
      },
      "outputs": [
        {
          "name": "stdout",
          "output_type": "stream",
          "text": [
            "Class\n",
            "0    0.998273\n",
            "1    0.001727\n",
            "Name: proportion, dtype: float64\n",
            "Class\n",
            "0    284315\n",
            "1       492\n",
            "Name: count, dtype: int64\n"
          ]
        },
        {
          "data": {
            "image/png": "[encoded data removed]",
            "text/plain": [
              "<Figure size 1400x400 with 2 Axes>"
            ]
          },
          "metadata": {},
          "output_type": "display_data"
        }
      ],
      "source": [
        "#Exploramos la variable objetivo\n",
        "print(df['Class'].value_counts(normalize=True))\n",
        "print(df['Class'].value_counts())\n",
        "      \n",
        "# Crear un nuevo subplot con 1 fila y 2 columnas\n",
        "fig, axs = plt.subplots(1, 2, figsize=(14, 4))\n",
        "\n",
        "# Gráfica con normalización\n",
        "axs[0].set_yscale('log')  # Utiliza una escala logarítmica en el eje y\n",
        "axs[0].set_xlabel('Class')\n",
        "axs[0].set_ylabel('Normalized Counts (log scale)')\n",
        "axs[0].set_title('Normalized Distribution of Classes')\n",
        "df.Class.value_counts(normalize=True).plot(kind='bar', grid=True, ax=axs[0])\n",
        "\n",
        "# Gráfica sin normalización\n",
        "axs[1].set_yscale('log')  # Utiliza una escala logarítmica en el eje y\n",
        "axs[1].set_xlabel('Class')\n",
        "axs[1].set_ylabel('Counts (log scale)')\n",
        "axs[1].set_title('Distribution of Classes')\n",
        "df.Class.value_counts().plot(kind='bar', grid=True, ax=axs[1])\n",
        "\n",
        "plt.tight_layout()\n",
        "plt.show()"
      ]
    },
    {
      "cell_type": "code",
      "execution_count": 15,
      "metadata": {
        "id": "HAEXKD_JszmD"
      },
      "outputs": [],
      "source": [
        "# Separemos nuestros datos en conjuntos de entrenamiento y prueba:\n",
        "X_train, X_test, y_train, y_test = train_test_split(\n",
        "    df.drop(columns='Class'),\n",
        "    df['Class'],\n",
        "    test_size=0.2,\n",
        "    stratify=df['Class'],\n",
        "    random_state=random_state\n",
        ")"
      ]
    },
    {
      "cell_type": "code",
      "execution_count": null,
      "metadata": {
        "id": "xQY3VJQgrDVs"
      },
      "outputs": [],
      "source": [
        "#Entrenaremos un classificador RandomForest para resolver este problema\n",
        "rf_base = RandomForestClassifier(random_state=random_state)\n",
        "\n",
        "pipeline_rf = Pipeline(steps = [\n",
        "        ('classifier', rf_base),\n",
        "                            ])\n",
        "\n",
        "# Definamos la malla de parámetros sobre la que haremos la búsqueda:\n",
        "param_grid = {\n",
        "    'classifier__n_estimators': [50, 100],\n",
        "    'classifier__max_depth': list(range(2, 8)),\n",
        "    'classifier__min_samples_leaf': [1, 10, 50]\n",
        "}\n",
        "\n",
        "# Definamos nuestros modelo mediante GridSearchCV:\n",
        "rf = GridSearchCV(pipeline_rf, param_grid=param_grid)"
      ]
    },
    {
      "cell_type": "code",
      "execution_count": null,
      "metadata": {
        "colab": {
          "base_uri": "https://localhost:8080/",
          "height": 115
        },
        "id": "NxlczfrIswF6",
        "outputId": "e8fb3fc2-9133-4802-8e98-a83c3267f56d"
      },
      "outputs": [
        {
          "data": {
            "text/html": [
              "<style>#sk-container-id-1 {color: black;background-color: white;}#sk-container-id-1 pre{padding: 0;}#sk-container-id-1 div.sk-toggleable {background-color: white;}#sk-container-id-1 label.sk-toggleable__label {cursor: pointer;display: block;width: 100%;margin-bottom: 0;padding: 0.3em;box-sizing: border-box;text-align: center;}#sk-container-id-1 label.sk-toggleable__label-arrow:before {content: \"▸\";float: left;margin-right: 0.25em;color: #696969;}#sk-container-id-1 label.sk-toggleable__label-arrow:hover:before {color: black;}#sk-container-id-1 div.sk-estimator:hover label.sk-toggleable__label-arrow:before {color: black;}#sk-container-id-1 div.sk-toggleable__content {max-height: 0;max-width: 0;overflow: hidden;text-align: left;background-color: #f0f8ff;}#sk-container-id-1 div.sk-toggleable__content pre {margin: 0.2em;color: black;border-radius: 0.25em;background-color: #f0f8ff;}#sk-container-id-1 input.sk-toggleable__control:checked~div.sk-toggleable__content {max-height: 200px;max-width: 100%;overflow: auto;}#sk-container-id-1 input.sk-toggleable__control:checked~label.sk-toggleable__label-arrow:before {content: \"▾\";}#sk-container-id-1 div.sk-estimator input.sk-toggleable__control:checked~label.sk-toggleable__label {background-color: #d4ebff;}#sk-container-id-1 div.sk-label input.sk-toggleable__control:checked~label.sk-toggleable__label {background-color: #d4ebff;}#sk-container-id-1 input.sk-hidden--visually {border: 0;clip: rect(1px 1px 1px 1px);clip: rect(1px, 1px, 1px, 1px);height: 1px;margin: -1px;overflow: hidden;padding: 0;position: absolute;width: 1px;}#sk-container-id-1 div.sk-estimator {font-family: monospace;background-color: #f0f8ff;border: 1px dotted black;border-radius: 0.25em;box-sizing: border-box;margin-bottom: 0.5em;}#sk-container-id-1 div.sk-estimator:hover {background-color: #d4ebff;}#sk-container-id-1 div.sk-parallel-item::after {content: \"\";width: 100%;border-bottom: 1px solid gray;flex-grow: 1;}#sk-container-id-1 div.sk-label:hover label.sk-toggleable__label {background-color: #d4ebff;}#sk-container-id-1 div.sk-serial::before {content: \"\";position: absolute;border-left: 1px solid gray;box-sizing: border-box;top: 0;bottom: 0;left: 50%;z-index: 0;}#sk-container-id-1 div.sk-serial {display: flex;flex-direction: column;align-items: center;background-color: white;padding-right: 0.2em;padding-left: 0.2em;position: relative;}#sk-container-id-1 div.sk-item {position: relative;z-index: 1;}#sk-container-id-1 div.sk-parallel {display: flex;align-items: stretch;justify-content: center;background-color: white;position: relative;}#sk-container-id-1 div.sk-item::before, #sk-container-id-1 div.sk-parallel-item::before {content: \"\";position: absolute;border-left: 1px solid gray;box-sizing: border-box;top: 0;bottom: 0;left: 50%;z-index: -1;}#sk-container-id-1 div.sk-parallel-item {display: flex;flex-direction: column;z-index: 1;position: relative;background-color: white;}#sk-container-id-1 div.sk-parallel-item:first-child::after {align-self: flex-end;width: 50%;}#sk-container-id-1 div.sk-parallel-item:last-child::after {align-self: flex-start;width: 50%;}#sk-container-id-1 div.sk-parallel-item:only-child::after {width: 0;}#sk-container-id-1 div.sk-dashed-wrapped {border: 1px dashed gray;margin: 0 0.4em 0.5em 0.4em;box-sizing: border-box;padding-bottom: 0.4em;background-color: white;}#sk-container-id-1 div.sk-label label {font-family: monospace;font-weight: bold;display: inline-block;line-height: 1.2em;}#sk-container-id-1 div.sk-label-container {text-align: center;}#sk-container-id-1 div.sk-container {/* jupyter's `normalize.less` sets `[hidden] { display: none; }` but bootstrap.min.css set `[hidden] { display: none !important; }` so we also need the `!important` here to be able to override the default hidden behavior on the sphinx rendered scikit-learn.org. See: https://github.com/scikit-learn/scikit-learn/issues/21755 */display: inline-block !important;position: relative;}#sk-container-id-1 div.sk-text-repr-fallback {display: none;}</style><div id=\"sk-container-id-1\" class=\"sk-top-container\"><div class=\"sk-text-repr-fallback\"><pre>GridSearchCV(estimator=Pipeline(steps=[(&#x27;classifier&#x27;,\n",
              "                                        RandomForestClassifier(random_state=1234))]),\n",
              "             param_grid={&#x27;classifier__max_depth&#x27;: [2, 3, 4, 5, 6, 7],\n",
              "                         &#x27;classifier__min_samples_leaf&#x27;: [1, 10, 50],\n",
              "                         &#x27;classifier__n_estimators&#x27;: [50, 100]})</pre><b>In a Jupyter environment, please rerun this cell to show the HTML representation or trust the notebook. <br />On GitHub, the HTML representation is unable to render, please try loading this page with nbviewer.org.</b></div><div class=\"sk-container\" hidden><div class=\"sk-item sk-dashed-wrapped\"><div class=\"sk-label-container\"><div class=\"sk-label sk-toggleable\"><input class=\"sk-toggleable__control sk-hidden--visually\" id=\"sk-estimator-id-1\" type=\"checkbox\" ><label for=\"sk-estimator-id-1\" class=\"sk-toggleable__label sk-toggleable__label-arrow\">GridSearchCV</label><div class=\"sk-toggleable__content\"><pre>GridSearchCV(estimator=Pipeline(steps=[(&#x27;classifier&#x27;,\n",
              "                                        RandomForestClassifier(random_state=1234))]),\n",
              "             param_grid={&#x27;classifier__max_depth&#x27;: [2, 3, 4, 5, 6, 7],\n",
              "                         &#x27;classifier__min_samples_leaf&#x27;: [1, 10, 50],\n",
              "                         &#x27;classifier__n_estimators&#x27;: [50, 100]})</pre></div></div></div><div class=\"sk-parallel\"><div class=\"sk-parallel-item\"><div class=\"sk-item\"><div class=\"sk-label-container\"><div class=\"sk-label sk-toggleable\"><input class=\"sk-toggleable__control sk-hidden--visually\" id=\"sk-estimator-id-2\" type=\"checkbox\" ><label for=\"sk-estimator-id-2\" class=\"sk-toggleable__label sk-toggleable__label-arrow\">estimator: Pipeline</label><div class=\"sk-toggleable__content\"><pre>Pipeline(steps=[(&#x27;classifier&#x27;, RandomForestClassifier(random_state=1234))])</pre></div></div></div><div class=\"sk-serial\"><div class=\"sk-item\"><div class=\"sk-serial\"><div class=\"sk-item\"><div class=\"sk-estimator sk-toggleable\"><input class=\"sk-toggleable__control sk-hidden--visually\" id=\"sk-estimator-id-3\" type=\"checkbox\" ><label for=\"sk-estimator-id-3\" class=\"sk-toggleable__label sk-toggleable__label-arrow\">RandomForestClassifier</label><div class=\"sk-toggleable__content\"><pre>RandomForestClassifier(random_state=1234)</pre></div></div></div></div></div></div></div></div></div></div></div></div>"
            ],
            "text/plain": [
              "GridSearchCV(estimator=Pipeline(steps=[('classifier',\n",
              "                                        RandomForestClassifier(random_state=1234))]),\n",
              "             param_grid={'classifier__max_depth': [2, 3, 4, 5, 6, 7],\n",
              "                         'classifier__min_samples_leaf': [1, 10, 50],\n",
              "                         'classifier__n_estimators': [50, 100]})"
            ]
          },
          "execution_count": 7,
          "metadata": {},
          "output_type": "execute_result"
        }
      ],
      "source": [
        "# Entrenemos el random forest:\n",
        "rf.fit(X_train, y_train)"
      ]
    },
    {
      "cell_type": "code",
      "execution_count": null,
      "metadata": {
        "colab": {
          "base_uri": "https://localhost:8080/"
        },
        "id": "rJXv6RltuI1b",
        "outputId": "c5256b0f-497e-4455-cf3d-30e948d369fd"
      },
      "outputs": [
        {
          "data": {
            "text/plain": [
              "{'classifier__max_depth': 7,\n",
              " 'classifier__min_samples_leaf': 1,\n",
              " 'classifier__n_estimators': 50}"
            ]
          },
          "execution_count": 8,
          "metadata": {},
          "output_type": "execute_result"
        }
      ],
      "source": [
        "rf.best_params_"
      ]
    },
    {
      "cell_type": "code",
      "execution_count": null,
      "metadata": {
        "colab": {
          "base_uri": "https://localhost:8080/"
        },
        "id": "5slrZFnUtpzV",
        "outputId": "8b08065c-09df-4e24-d95e-c3c4b18d3cc4"
      },
      "outputs": [
        {
          "name": "stdout",
          "output_type": "stream",
          "text": [
            "Training set\n",
            "Accuracy: 0.9996576620070662\n",
            "F1 score: 0.9452924324533583\n",
            "\n",
            "\n"
          ]
        }
      ],
      "source": [
        "# Obtengamos la accuracy y el F1 score de entrenamiento\n",
        "print(\"Training set\")\n",
        "print(f'Accuracy: {rf.score(X_train, y_train)}')\n",
        "print(f\"F1 score: {f1_score(y_train, rf.predict(X_train), average='macro')}\")\n",
        "print('\\n')"
      ]
    },
    {
      "cell_type": "code",
      "execution_count": null,
      "metadata": {
        "colab": {
          "base_uri": "https://localhost:8080/"
        },
        "id": "iYXZpl9Ft72j",
        "outputId": "3792def0-b58f-415b-e460-41b84dd44f85"
      },
      "outputs": [
        {
          "name": "stdout",
          "output_type": "stream",
          "text": [
            "Test set\n",
            "Accuracy: 0.9995962220427653\n",
            "F1 score: 0.9363629832748375\n",
            "\n",
            "\n"
          ]
        }
      ],
      "source": [
        "# Obtengamos la accuracy y el F1 score de prueba para cada modelo:\n",
        "print(\"Test set\")\n",
        "print(f'Accuracy: {rf.score(X_test, y_test)}')\n",
        "print(f\"F1 score: {f1_score(y_test, rf.predict(X_test), average='macro')}\")\n",
        "print('\\n')"
      ]
    },
    {
      "cell_type": "code",
      "execution_count": null,
      "metadata": {
        "colab": {
          "base_uri": "https://localhost:8080/",
          "height": 449
        },
        "id": "_8Zw-afauDsg",
        "outputId": "d22dcc19-d783-4885-bc17-6b6b8e799c0c"
      },
      "outputs": [
        {
          "data": {
            "image/png": "[encoded data removed]",
            "text/plain": [
              "<Figure size 640x480 with 2 Axes>"
            ]
          },
          "metadata": {},
          "output_type": "display_data"
        }
      ],
      "source": [
        "# Grafiquemos la matriz de confusión del random foresr para los datos de prueba (sin normalizar):\n",
        "cm = confusion_matrix(y_test,rf.predict(X_test))\n",
        "disp = ConfusionMatrixDisplay(cm)\n",
        "disp.plot()\n",
        "plt.show()"
      ]
    },
    {
      "cell_type": "markdown",
      "metadata": {},
      "source": [
        "# Isolation Forest 1 (GridSearchCV Scoring: custom_fbeta_score)"
      ]
    },
    {
      "cell_type": "code",
      "execution_count": 32,
      "metadata": {
        "id": "U_G5eJO3uLoe"
      },
      "outputs": [
        {
          "name": "stdout",
          "output_type": "stream",
          "text": [
            "Mejores parámetros encontrados por GridSearchCV: {'model__contamination': 0.001727485630620034, 'model__n_estimators': 200}\n",
            "Mejor puntuación: -1.0146872918101625e-05\n"
          ]
        }
      ],
      "source": [
        "#Ahora, entrenemos un modelo basado en Isolation Forest\n",
        "#Tip: Isolation forest de sklearn devuelve -1 para outliers y 1 para inliers.\n",
        "#Por esta razón, se deben mapear los -1 devueltos por el modelo para poder calcular\n",
        "#las métricas de validación que se utilizan\n",
        "\n",
        "# Importar las bibliotecas necesarias\n",
        "# from sklearn.preprocessing import StandardScaler\n",
        "from sklearn.metrics import make_scorer, fbeta_score, accuracy_score, recall_score\n",
        "\n",
        "anomaly_proportion = df['Class'].value_counts(normalize=True)[1]\n",
        "\n",
        "# Construir el pipeline\n",
        "pipeline = Pipeline([\n",
        "    # ('scaler', StandardScaler()),\n",
        "    ('model', IsolationForest(random_state=random_state))\n",
        "])\n",
        "\n",
        "# Definir los parámetros para GridSearchCV\n",
        "parameters = {\n",
        "    'model__n_estimators': [25, 50, 100, 200, 300, 400],\n",
        "    'model__contamination': [anomaly_proportion/2, anomaly_proportion]\n",
        "    # 'n_estimators': list(range(100, 800, 5),\n",
        "    # 'max_samples': list(range(100, 500, 5))\n",
        "}\n",
        "\n",
        "def custom_fbeta_score(y_true, y_pred):\n",
        "    # Calcula el F-beta score (beta=2)\n",
        "    score = fbeta_score(y_true, y_pred, beta=2, average='weighted')\n",
        "    # Devuelve el inverso del score para minimizar la métrica\n",
        "    return -score\n",
        "\n",
        "# Define el scorer (Recall: B>1)\n",
        "scorer = make_scorer(custom_fbeta_score)\n",
        "\n",
        "# Inicializar GridSearchCV\n",
        "grid_search = GridSearchCV(pipeline, parameters, cv=5, scoring=scorer)\n",
        "\n",
        "# Entrenar el modelo usando GridSearchCV\n",
        "grid_search.fit(X_train, y_train)\n",
        "\n",
        "# Obtener los mejores parámetros encontrados por GridSearchCV\n",
        "print(\"Mejores parámetros encontrados por GridSearchCV:\", grid_search.best_params_)\n",
        "\n",
        "# Obtén la mejor puntuación\n",
        "best_score = grid_search.best_score_\n",
        "print(\"Mejor puntuación:\", best_score)"
      ]
    },
    {
      "cell_type": "code",
      "execution_count": 33,
      "metadata": {
        "id": "sKfwijV7vAny"
      },
      "outputs": [
        {
          "name": "stdout",
          "output_type": "stream",
          "text": [
            "Precisión: 0.9977528878901724\n",
            "F1 score: 0.6794372340051352\n",
            "recall_score: 0.3673469387755102\n"
          ]
        }
      ],
      "source": [
        "# Calcular el accuracy y F1 score de Isolation forest en los conjuntos de entrenamiento y test\n",
        "\n",
        "# Obtener el mejor modelo\n",
        "best_model = grid_search.best_estimator_\n",
        "\n",
        "# Evaluar el modelo\n",
        "predicciones = best_model.predict(X_test)\n",
        "\n",
        "# Ajustar las predicciones del modelo\n",
        "predicciones_ajustadas = [0 if x == 1 else 1 for x in predicciones]\n",
        "\n",
        "# Calcular la precisión\n",
        "precision = accuracy_score(y_test, predicciones_ajustadas)\n",
        "print(\"Precisión:\", precision)\n",
        "\n",
        "# Calcular el F1 score\n",
        "f1 = f1_score(y_test, predicciones_ajustadas, average='macro')\n",
        "print(\"F1 score:\", f1)\n",
        "\n",
        "# Calcular el recall\n",
        "recall = recall_score(y_test, predicciones_ajustadas)\n",
        "print(\"recall_score:\", recall)"
      ]
    },
    {
      "cell_type": "code",
      "execution_count": 34,
      "metadata": {
        "id": "cOLpfN1AvHxE"
      },
      "outputs": [
        {
          "data": {
            "image/png": "[encoded data removed]",
            "text/plain": [
              "<Figure size 640x480 with 2 Axes>"
            ]
          },
          "metadata": {},
          "output_type": "display_data"
        }
      ],
      "source": [
        "# Graficar la matriz de confusión para Isolation forest\n",
        "\n",
        "cm = confusion_matrix(y_test, predicciones_ajustadas)\n",
        "disp = ConfusionMatrixDisplay(confusion_matrix=cm, display_labels=[\"Normal\", \"Anómalo\"])\n",
        "disp.plot()\n",
        "plt.title(\"Matriz de Confusión\")\n",
        "plt.show()"
      ]
    },
    {
      "cell_type": "markdown",
      "metadata": {},
      "source": [
        "# "
      ]
    },
    {
      "cell_type": "markdown",
      "metadata": {},
      "source": [
        "# Isolation Forest 2 (GridSearchCV Scoring: Default)"
      ]
    },
    {
      "cell_type": "code",
      "execution_count": 35,
      "metadata": {},
      "outputs": [
        {
          "name": "stdout",
          "output_type": "stream",
          "text": [
            "Mejores parámetros encontrados por GridSearchCV: {'model__contamination': 0.000863742815310017, 'model__n_estimators': 25}\n",
            "Mejor puntuación: 0.0015317430709473547\n"
          ]
        }
      ],
      "source": [
        "#Ahora, entrenemos un modelo basado en Isolation Forest\n",
        "#Tip: Isolation forest de sklearn devuelve -1 para outliers y 1 para inliers.\n",
        "#Por esta razón, se deben mapear los -1 devueltos por el modelo para poder calcular\n",
        "#las métricas de validación que se utilizan\n",
        "\n",
        "# Importar las bibliotecas necesarias\n",
        "# from sklearn.preprocessing import StandardScaler\n",
        "from sklearn.metrics import accuracy_score, recall_score\n",
        "\n",
        "anomaly_proportion = df['Class'].value_counts(normalize=True)[1]\n",
        "\n",
        "# Construir el pipeline\n",
        "pipeline = Pipeline([\n",
        "    # ('scaler', StandardScaler()),\n",
        "    ('model', IsolationForest(random_state=random_state))\n",
        "])\n",
        "\n",
        "# Definir los parámetros para GridSearchCV\n",
        "parameters = {\n",
        "    'model__n_estimators': [25, 50, 100, 200, 300, 400],\n",
        "    'model__contamination': [anomaly_proportion/2, anomaly_proportion, anomaly_proportion*2]\n",
        "    # 'n_estimators': list(range(100, 800, 5),\n",
        "    # 'max_samples': list(range(100, 500, 5))\n",
        "}\n",
        "\n",
        "# Inicializar GridSearchCV\n",
        "grid_search = GridSearchCV(pipeline, parameters, cv=5, scoring='accuracy')\n",
        "\n",
        "# Entrenar el modelo usando GridSearchCV\n",
        "grid_search.fit(X_train, y_train)\n",
        "\n",
        "# Obtener los mejores parámetros encontrados por GridSearchCV\n",
        "print(\"Mejores parámetros encontrados por GridSearchCV:\", grid_search.best_params_)\n",
        "\n",
        "# Obtén la mejor puntuación\n",
        "best_score = grid_search.best_score_\n",
        "print(\"Mejor puntuación:\", best_score)"
      ]
    },
    {
      "cell_type": "code",
      "execution_count": 36,
      "metadata": {},
      "outputs": [
        {
          "name": "stdout",
          "output_type": "stream",
          "text": [
            "Precisión: 0.9977002212000983\n",
            "F1 score: 0.5822268096392565\n",
            "recall_score: 0.1326530612244898\n"
          ]
        }
      ],
      "source": [
        "# Calcular el accuracy y F1 score de Isolation forest en los conjuntos de entrenamiento y test\n",
        "\n",
        "# Obtener el mejor modelo\n",
        "best_model = grid_search.best_estimator_\n",
        "\n",
        "# Evaluar el modelo\n",
        "predicciones = best_model.predict(X_test)\n",
        "\n",
        "# Ajustar las predicciones del modelo\n",
        "predicciones_ajustadas = [0 if x == 1 else 1 for x in predicciones]\n",
        "\n",
        "# Calcular la precisión\n",
        "precision = accuracy_score(y_test, predicciones_ajustadas)\n",
        "print(\"Precisión:\", precision)\n",
        "\n",
        "# Calcular el F1 score\n",
        "f1 = f1_score(y_test, predicciones_ajustadas, average='macro')\n",
        "print(\"F1 score:\", f1)\n",
        "\n",
        "# Calcular el recall\n",
        "recall = recall_score(y_test, predicciones_ajustadas)\n",
        "print(\"recall_score:\", recall)"
      ]
    },
    {
      "cell_type": "code",
      "execution_count": 37,
      "metadata": {},
      "outputs": [
        {
          "data": {
            "image/png": "[encoded data removed]",
            "text/plain": [
              "<Figure size 640x480 with 2 Axes>"
            ]
          },
          "metadata": {},
          "output_type": "display_data"
        }
      ],
      "source": [
        "# Graficar la matriz de confusión para Isolation forest\n",
        "\n",
        "cm = confusion_matrix(y_test, predicciones_ajustadas)\n",
        "disp = ConfusionMatrixDisplay(confusion_matrix=cm, display_labels=[\"Normal\", \"Anómalo\"])\n",
        "disp.plot()\n",
        "plt.title(\"Matriz de Confusión\")\n",
        "plt.show()"
      ]
    }
  ],
  "metadata": {
    "colab": {
      "authorship_tag": "ABX9TyOGJhvIstjBijPkOArlor0j",
      "include_colab_link": true,
      "mount_file_id": "17LpIOzzlKAK0hPan5aCBOxlBy3Wi36I4",
      "provenance": []
    },
    "kernelspec": {
      "display_name": "Python 3",
      "name": "python3"
    },
    "language_info": {
      "name": "python"
    }
  },
  "nbformat": 4,
  "nbformat_minor": 0
}
